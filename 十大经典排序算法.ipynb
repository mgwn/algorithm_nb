{
 "cells": [
  {
   "cell_type": "markdown",
   "metadata": {},
   "source": [
    "# 算法概述"
   ]
  },
  {
   "cell_type": "markdown",
   "metadata": {},
   "source": [
    "## 算法分类\n",
    "\n",
    "* **非线性时间比较类排序**： 通过比较来决定元素间的相对排序，由于时间复杂度不能突破$O(nlogn)$, 因此成为非线性时间比较类排序\n",
    "* **线性时间比较类排序**：不通过比较来决定元素间的相对排序。可以突破$O(nlogn)$, 以线性时间运行\n",
    "\n",
    "```mindmap\n",
    "排序算法\n",
    "- 非线性时间比较类排序\n",
    "\t- 交换排序\n",
    "\t\t- 冒泡排序\n",
    "\t\t- 快速排序\n",
    "\t- 插入排序\n",
    "\t\t- 简单插入排序\n",
    "\t\t- 希尔排序\n",
    "\t- 选择排序\n",
    "\t\t- 简单选择排序\n",
    "\t\t- 堆排序\n",
    "\t- 归并排序\n",
    "\t\t- 二路归并排序\n",
    "\t\t- 多路归并排序\n",
    "- 线性时间非比较类排序\n",
    "\t- 基数排序\n",
    "\t- 桶排序\n",
    "\t- 计数排序\n",
    "\n",
    "```"
   ]
  },
  {
   "cell_type": "markdown",
   "metadata": {},
   "source": [
    "## 算法复杂度\n",
    "\n",
    "| 排序方法 | 时间复杂度(平均) | 时间复杂度(最坏) | 时间复杂度(最好) | 空间复杂度 | 稳定性 |\n",
    "| ------- | ------------- | -------------- | ------------- | -------- | ------ |\n",
    "| 冒泡排序 | $$O(n^2)$$ | $$O(n^2)$$ | $$O(n)$$ | $$O(1)$$ |  稳定 |\n",
    "| 选择排序 | $$O(n^2)$$ | $$O(n^2)$$ | $$O(n^2)$$ | $$O(1)$$ |  不稳定 |\n",
    "| 插入排序 | $$O(n^2)$$ | $$O(n^2)$$ | $$O(n)$$ | $$O(1)$$ |  稳定 |\n",
    "| 希尔排序 | $$O(n^{1.3})$$ | $$O(n^2)$$ | $$O(n)$$ | $$O(1)$$ |  不稳定 |\n",
    "| 归并排序 | $$O(nlog_2n)$$ | $$O(nlog_2n)$$ | $$O(nlog_2n)$$ | $$O(n)$$ |  稳定 |\n",
    "| 快速排序 | $$O(nlog_2n)$$ | $$O(n^2)$$ | $$O(nlog_2n)$$ | $$O(nlog_2n)$$ |  不稳定 |\n",
    "| 堆排序 | $$O(nlog_2n)$$ | $$O(nlog_2n)$$ | $$O(nlog_2n)$$ | $$O(1)$$ |  不稳定 |\n",
    "| 计数排序 | $$O(n+k)$$ | $$O(n+k)$$ | $$O(n+k)$$ | $$O(n+k)$$ |  稳定 |\n",
    "| 桶排序 | $$O(n+k)$$ | $$O(n^2)$$ | $$O(n)$$ | $$O(n+k)$$ |  稳定 |\n",
    "| 基数排序 | $$O(n*k)$$ | $$O(n*k)$$ | $$O(n*k)$$ | $$O(n+k)$$ |  稳定 |"
   ]
  },
  {
   "cell_type": "markdown",
   "metadata": {},
   "source": [
    "## 相关概念\n",
    "稳定： 如果a原来在b前面，而a=b， 排序后a仍然在b的前面"
   ]
  },
  {
   "cell_type": "markdown",
   "metadata": {},
   "source": [
    "\n",
    "# 冒泡排序(Bubble sort)\n",
    "核心思想： 两两比较， 将最大元素“浮”到最顶端"
   ]
  },
  {
   "cell_type": "markdown",
   "metadata": {},
   "source": [
    "## 算法描述\n",
    "* 比较相邻的元素， 如果第一个比第二个大， 就交换它们\n",
    "* 队每一对相邻元素做统一的工作， 从第一队到结尾的最后一对， 这样在最后的元素应该会是最大的数\n",
    "* 针对除最后一个之外的元素重复以上过程\n",
    "* 重复1~3 知道排序完成"
   ]
  },
  {
   "cell_type": "markdown",
   "metadata": {},
   "source": [
    "## 演示\n",
    "![BubbleSort](./image/bubblesort.gif)"
   ]
  },
  {
   "cell_type": "markdown",
   "metadata": {},
   "source": [
    "## 代码"
   ]
  },
  {
   "cell_type": "code",
   "execution_count": 1,
   "metadata": {},
   "outputs": [],
   "source": [
    "def bubbleSort(arr):\n",
    "    length = len(arr)\n",
    "    for i in range(1, length):\n",
    "        for j in range(0, length - i):\n",
    "            if arr[j] > arr[j+1]:\n",
    "                arr[j], arr[j+1] = arr[j+1], arr[j]\n",
    "    return arr"
   ]
  },
  {
   "cell_type": "markdown",
   "metadata": {},
   "source": [
    "# 选择排序(Selection Sort)\n",
    "表现最稳定的排序算法之一， 无论什么数据都是$O(n^2)$的时间复杂度，在数据规模很小时可以使用。好处是不占用额外的内存空间。\n",
    "\n",
    "核心思想： 找到最小(大)元素，放在起始位置， 然后再从剩余的里面继续找"
   ]
  },
  {
   "cell_type": "markdown",
   "metadata": {},
   "source": [
    "## 算法描述\n",
    "n个记录的直接选择排序可经过n-1趟直接选择排序得到有序结果，具体算法如下:\n",
    "* 起始状态: 无序区为R[1..n], 有序区为空\n",
    "* 第i趟排序(i=1..n-1)开始时， 当前有序区和无序区分别为R[1..i-1]和R(i..n)。 该趟排序从当前无序区中选出关键字最小的记录R[k],将它与无序区的第1个记录R交换，使R[1..i]和R[i+1..n)分别变为记录个数增加1个的新有序区和记录个数减少1个的新无序区\n",
    "* n-1趟结束， 数组有序化"
   ]
  },
  {
   "cell_type": "markdown",
   "metadata": {},
   "source": [
    "## 演示\n",
    "![SelectionSort](./image/selectionsort.gif)"
   ]
  },
  {
   "cell_type": "markdown",
   "metadata": {},
   "source": [
    "## 代码"
   ]
  },
  {
   "cell_type": "code",
   "execution_count": 2,
   "metadata": {},
   "outputs": [],
   "source": [
    "def selectionSort(arr):\n",
    "    length = len(arr)\n",
    "    for i in range(length - 1):\n",
    "        minIndex = i\n",
    "        for j in range(i+1, length):\n",
    "            if arr[j] < arr[minIndex]:\n",
    "                minIndex = j\n",
    "        if i != minIndex:\n",
    "            arr[i], arr[minIndex] = arr[minIndex], arr[i]\n",
    "    return arr"
   ]
  },
  {
   "cell_type": "markdown",
   "metadata": {},
   "source": [
    "# 插入排序(Insertion Sort)\n",
    "采用in-place(只需要$O(1)$的额外空间)， 需要反复把已排序元素逐步向后挪位\n",
    "\n",
    "核心思想： 构建有序序列，对未排序数据， 在已排序序列中从后向前扫描， 找到相应位置并插入"
   ]
  },
  {
   "cell_type": "markdown",
   "metadata": {},
   "source": [
    "## 算法描述\n",
    "一般采用in-place在数组上实现\n",
    "* 从第一个元素开始， 该元素可以认为已经被排序\n",
    "* 取下一个元素， 在已经排序的元素序列总从后向前扫描\n",
    "* 如果该元素(已排序)大于新元素， 将该元素移到下一位置\n",
    "* 重复步骤3， 知道找到已排序的元素小于或者等于新元素的位置\n",
    "* 将新元素插入到该位置后\n",
    "* 重复2~5"
   ]
  },
  {
   "cell_type": "markdown",
   "metadata": {},
   "source": [
    "## 演示\n",
    "![insertionsort](./image/insertionsort.gif)"
   ]
  },
  {
   "cell_type": "markdown",
   "metadata": {},
   "source": [
    "## 代码"
   ]
  },
  {
   "cell_type": "code",
   "execution_count": 3,
   "metadata": {},
   "outputs": [],
   "source": [
    "def insertionSort(arr):\n",
    "    length = len(arr)\n",
    "    for i in range(length):\n",
    "        preIndex = i-1\n",
    "        current = arr[i]\n",
    "        while preIndex >= 0 and arr[preIndex] > current:\n",
    "            arr[preIndex+1] = arr[preIndex]\n",
    "            preIndex-=1\n",
    "        arr[preIndex+1] = current\n",
    "    return arr"
   ]
  },
  {
   "cell_type": "markdown",
   "metadata": {},
   "source": [
    "# 希尔排序 (Shell Sort)\n",
    "第一个突破$O(n^2)$的排序算法， 插入排序的改进。优先比较距离较远的元素， 又叫缩小增量排序。\n",
    "\n",
    "既可以提前定义好间隔序列， 也可以动态的定义间隔序列"
   ]
  },
  {
   "cell_type": "markdown",
   "metadata": {},
   "source": [
    "## 算法描述\n",
    "先将整个带爬徐的记录序列分割成若干子序列并分别进行直接插入排序：\n",
    "* 选择一个增量序列$t_1$, $t_2$, ..., $t_k$, 其中$t_i > t_k, t_k =1$\n",
    "* 按增量序列个数k，对序列进行k趟排序\n",
    "* 每趟排序， 根据对应的增量$t_i$, 将待排序列分割成若干长度为m的子序列，分别对各子表进行直接插入排序。仅增量因子为1时，对整个序列做为一个表来处理， 表长度即整个序列的长度"
   ]
  },
  {
   "cell_type": "markdown",
   "metadata": {},
   "source": [
    "## 演示\n",
    "![ShellSort](./image/shellsort.gif)"
   ]
  },
  {
   "cell_type": "markdown",
   "metadata": {},
   "source": [
    "## 代码"
   ]
  },
  {
   "cell_type": "code",
   "execution_count": 4,
   "metadata": {},
   "outputs": [],
   "source": [
    "import math\n",
    "def shellSort(arr):\n",
    "    gap = 1\n",
    "    length = len(arr)\n",
    "    while(gap < length / 3):\n",
    "        gap = gap*3 + 1\n",
    "    while gap > 0:\n",
    "        for i in range(gap, length):\n",
    "            temp = arr[i]\n",
    "            j = i - gap\n",
    "            while j>=0 and arr[j] > temp:\n",
    "                arr[j+gap] = arr[j]\n",
    "                j -= gap\n",
    "            arr[j+gap] = temp\n",
    "        gap = math.floor(gap/3)\n",
    "    return arr"
   ]
  },
  {
   "cell_type": "markdown",
   "metadata": {},
   "source": [
    "# 归并排序 (Merge Sort)\n",
    "分治法的典型应用。将已有序的子序列合并，得到完全有序的序列；即先使每个子序列有序，再使子序列段间有序。 若将两个有序表合并成一个有序表，称为2-路归并。\n",
    "\n",
    "时间复杂度稳定在$O(nlogn)$, 代价是空间复杂度"
   ]
  },
  {
   "cell_type": "markdown",
   "metadata": {},
   "source": [
    "## 算法描述\n",
    "* 将长度为n的输入序列分成两个长度为n/2的子序列\n",
    "* 对这两个子序列分别采用归并排序\n",
    "* 将两个排序好的子序列合并成一个最终的排序序列"
   ]
  },
  {
   "cell_type": "markdown",
   "metadata": {},
   "source": [
    "## 演示\n",
    "![MegreSort](./image/mergesort.gif)"
   ]
  },
  {
   "cell_type": "markdown",
   "metadata": {},
   "source": [
    "## 代码"
   ]
  },
  {
   "cell_type": "code",
   "execution_count": 5,
   "metadata": {},
   "outputs": [],
   "source": [
    "import math\n",
    "def mergeSort(arr):\n",
    "    length = len(arr)\n",
    "    if (length < 2):\n",
    "        return arr\n",
    "    middle = math.floor(length / 2)\n",
    "    left, right = arr[0:middle], arr[middle:]\n",
    "    return merge(mergeSort(left), mergeSort(right))\n",
    "\n",
    "def merge(left, right):\n",
    "    result = []\n",
    "    while left and right:\n",
    "        if left[0] <= right[0]:\n",
    "            result.append(left.pop(0))\n",
    "        else:\n",
    "            result.append(right.pop(0))\n",
    "    while left:\n",
    "        result.append(left.pop(0))\n",
    "    while right:\n",
    "        result.append(right.pop(0))\n",
    "    return result"
   ]
  },
  {
   "cell_type": "markdown",
   "metadata": {},
   "source": [
    "# 快速排序 (Quick Sort)\n",
    "基本思想: 一趟排序将记录分隔成独立的两部分，其中一部分均比另一部分关键字小， 然后分别对两部分进行排序"
   ]
  },
  {
   "cell_type": "markdown",
   "metadata": {},
   "source": [
    "## 算法描述\n",
    "使用分治法把一个list分成两个sub-lists：\n",
    "* 从数列中挑选一个元素，称为“基准”(pivot)\n",
    "* 重新排序数列，所有元素比基准小的摆在基准前面，比基准大的摆在后面。相同的可以到任一边。在这个分区退出之后，该基准就处于数列的中间位置。 这个称为分区(partition)操作\n",
    "* 递归地(recursive)把小于基准值元素的子数列和大于基准值元素的子数列排序"
   ]
  },
  {
   "cell_type": "markdown",
   "metadata": {},
   "source": [
    "## 演示\n",
    "![QuickSort](./image/quicksort.gif)"
   ]
  },
  {
   "cell_type": "markdown",
   "metadata": {},
   "source": [
    "## 代码"
   ]
  },
  {
   "cell_type": "code",
   "execution_count": 6,
   "metadata": {},
   "outputs": [],
   "source": [
    "def quickSort(arr, left=None, right=None):\n",
    "    left = 0 if not isinstance(left, (int, float)) else left\n",
    "    right = len(arr)-1 if not isinstance(right, (int, float)) else right\n",
    "    if left < right:\n",
    "        partitionIndex = partition(arr, left, right)\n",
    "        quickSort(arr, left, partitionIndex -1)\n",
    "        quickSort(arr, partitionIndex + 1, right)\n",
    "    return arr\n",
    "\n",
    "def partition(arr, left, right):\n",
    "    pivot = left\n",
    "    index = pivot + 1\n",
    "    i = index\n",
    "    while i <= right:\n",
    "        if arr[i] < arr[pivot]:\n",
    "            swap(arr, i, index)\n",
    "            index += 1\n",
    "        i += 1\n",
    "    swap(arr, pivot, index-1)\n",
    "    return index - 1\n",
    "\n",
    "def swap(arr, i, j):\n",
    "    arr[i], arr[j] = arr[j], arr[i]"
   ]
  },
  {
   "cell_type": "markdown",
   "metadata": {},
   "source": [
    "# 堆排序 (Heap Sort)\n",
    "堆积是一个近似完全二叉树结构，同时满足堆积的性质：子节点的键值或索引总是小于(或者大于)它的父节点"
   ]
  },
  {
   "cell_type": "markdown",
   "metadata": {},
   "source": [
    "## 算法描述\n",
    "* 将初始待排序关键字序列$(R_1,R_2...R_n)$构建成大顶堆，此堆为初始的无序区\n",
    "* 将堆顶元素$R[1]$与最后一个元素$R[n]$交换， 此时得到新的无序区$(R_1,R_2...R_{n-1})$和新的有序区$(R_n)$,且满足$R[1,2...n-1]\\leqslant R[n]$\n",
    "* 由于交换后的新堆顶$R[1]$可能违反堆的性质，因此需要对当前的无序区$(R_1,R_2...R_{n-1})$重新调整为新堆，然后再次将$R[1]$与无序区最后一个元素交换，得到新的无序区$(R_1,R_2...R_{n-2})$和新的有序区$(R_{n-1},R_n)$。 不断重复此过程知道有序区的元素个数为$n-1$，则整个排序过程完成"
   ]
  },
  {
   "cell_type": "markdown",
   "metadata": {},
   "source": [
    "## 演示\n",
    "![HeapSort](image/heapsort.gif)"
   ]
  },
  {
   "cell_type": "markdown",
   "metadata": {},
   "source": [
    "## 代码"
   ]
  },
  {
   "cell_type": "code",
   "execution_count": 7,
   "metadata": {},
   "outputs": [],
   "source": [
    "import math\n",
    "def buildMaxHeap(arr, arrLen):\n",
    "    for i in range(math.floor(arrLen/2), -1, -1):\n",
    "        heapify(arr, i, arrLen)\n",
    "        \n",
    "def heapify(arr, i, arrLen):\n",
    "    left = 2 * i + 1\n",
    "    right = 2 * i + 2\n",
    "    largest = i\n",
    "    if left < arrLen and arr[left] > arr[largest]:\n",
    "        largest = left\n",
    "    if right < arrLen and arr[right] > arr[largest]:\n",
    "        largest = right\n",
    "        \n",
    "    if largest != i:\n",
    "        swap(arr, i, largest)\n",
    "        heapify(arr, largest)\n",
    "        \n",
    "def swap(arr, i, j):\n",
    "    arr[i], arr[j] = arr[j], arr[i]\n",
    "    \n",
    "def heapSort(arr):\n",
    "    arrLen = len(arr)\n",
    "    buildmaxHeap(arr, arrLen)\n",
    "    for i in range(arrLen -1, 0, -1):\n",
    "        swap(arr, 0, i)\n",
    "        arrLen -= 1\n",
    "        heapify(arr, 0, arrLen)\n",
    "    return arr"
   ]
  },
  {
   "cell_type": "markdown",
   "metadata": {},
   "source": [
    "# 计数排序 (Counting Sort)\n",
    "不基于比较，核心思想是将输入的数据值转换为键存储在额外开辟的数组空间中，要求输入的数据必须是有确定范围的整数 \n",
    "\n",
    "当输入元素是$n$个$0$到$k$之间的整数时，时间复杂度是$O(n+k)$, 空间复杂度也是$O(n+k)$，速度快于任何比较排序算法。当k不是很大并且序列比较集中时，计数排序是一个很有效的排序"
   ]
  },
  {
   "cell_type": "markdown",
   "metadata": {},
   "source": [
    "## 算法描述\n",
    "* 找出待排序的数组中最大和最小的元素\n",
    "* 统计数组中每个值为$i$的元素出现的次数，存入数组$C$的第$i$项\n",
    "* 对所有的计数累加(从$C$中的第一个元素开始，每一项和前一项相加)\n",
    "* 反向填充目标数组： 将每个元素i放在心元素的第$C(i)$项目, 每放一个元素就将$C(i)$减去1"
   ]
  },
  {
   "cell_type": "markdown",
   "metadata": {},
   "source": [
    "## 演示\n",
    "![countingsort](./image/countingsort.gif)"
   ]
  },
  {
   "cell_type": "markdown",
   "metadata": {},
   "source": [
    "## 代码"
   ]
  },
  {
   "cell_type": "code",
   "execution_count": 8,
   "metadata": {},
   "outputs": [],
   "source": [
    "def countingSort(arr, maxValue):\n",
    "    bucketLen = maxValue + 1\n",
    "    bucket = [0] * bucketLen\n",
    "    sortedIndex = 0\n",
    "    arrLen = len(arr)\n",
    "    for i in range(arrLen):\n",
    "        bucket[arr[i]] += 1\n",
    "    for j in range(bucketLen):\n",
    "        while bucket[j] > 0:\n",
    "            arr[sortedIndex] = j\n",
    "            sortedIndex+=1\n",
    "            bucket[j]-=1\n",
    "    return arr"
   ]
  },
  {
   "cell_type": "markdown",
   "metadata": {},
   "source": [
    "# 桶排序 (Bucket Sort)\n",
    "计数排序的升级，是否高效取决于映射函数的确定。\n",
    "\n",
    "工作原理：建设输入数据服从均匀分布， 将数据分到有限数量的桶里， 每个桶分别排序(可以使用其他算法或者递归使用桶排序)\n",
    "\n",
    "最好情况下使用线性时间$O(n)$, 取决于各个桶之间数据进行排序的时间复杂度，因为其他部分的时间复杂度均为$O(n)$。\n",
    "\n",
    "桶划分的越小，各个桶之间的数据越少， 排序所用的时间就会越小， 但是相应的空间复杂度就会增大"
   ]
  },
  {
   "cell_type": "markdown",
   "metadata": {},
   "source": [
    "## 算法描述\n",
    "* 设置一个数量的数组当做空桶\n",
    "* 遍历输入数据，并且把数据一个一个放到对应的桶里去\n",
    "* 对每个不是空的桶进行排序\n",
    "* 从不是空的桶里把排好序的数据连接起来"
   ]
  },
  {
   "cell_type": "markdown",
   "metadata": {},
   "source": [
    "## 演示\n",
    "![BucketSort](./image/bucketsort.png)"
   ]
  },
  {
   "cell_type": "markdown",
   "metadata": {},
   "source": [
    "## 代码"
   ]
  },
  {
   "cell_type": "code",
   "execution_count": 9,
   "metadata": {},
   "outputs": [],
   "source": [
    "import math\n",
    "def bucketSort(arr, bucketSize = 5):\n",
    "    arrLen = len(arr)\n",
    "    if (arrLen == 0):\n",
    "        return arr\n",
    "    minValue, maxValue = arr[0], arr[0]\n",
    "    for i in range(1, arrLen):\n",
    "        if arr[i] < minValue:\n",
    "            minValue = arr[i]  #输入数据的最小值\n",
    "        elif arr[i] > maxValue:\n",
    "            maxValue = arr[i]  #输入数据的最大值\n",
    "    bucketCount = math.floor((maxValue - minValue) / bucketSize) + 1\n",
    "    buckets = [[]] * bucketCount\n",
    "    # 利用映射函数将数据分配到各个桶中\n",
    "    for i in range(arrLen):\n",
    "        buckets[math.floor((arr[i] - minValue) / bucketSize)].append(arr[i])\n",
    "    sortedIndex = 0\n",
    "    for bucket in buckets:\n",
    "        insertionSort(bucket) #对每个桶进行排序， 这里使用插入排序\n",
    "        for val in bucket:\n",
    "            arr[sortedIndex] = val\n",
    "            sortedIndex += 1\n",
    "    return arr"
   ]
  },
  {
   "cell_type": "markdown",
   "metadata": {},
   "source": [
    "# 基数排序 (Radix Sort)\n",
    "按照低位先排序，然后收集，重复直到最高位\n",
    "\n",
    "性能比桶排序略差，每一次关键字的桶分配都需要$O(n)$的时间复杂度，而且分配之后得到的新关键字序列又需要$O(n)$的时间复杂度。假如待排序数据可以分成d个关键字，则基数排序的时间复杂度是$O(d*2n)$，一般 $d<<n$，因此基本上是线性级别的\n",
    "\n",
    "空间复杂度为$O(n+k)$， k为桶的数量， 一般$n>>k$"
   ]
  },
  {
   "cell_type": "markdown",
   "metadata": {},
   "source": [
    "## 算法描述\n",
    "* 取得数组中的最大数， 并取得位数\n",
    "* ar为原始数组，从最低位开始取每个位组radix数组\n",
    "* 对radix进行计数排序(利用计数排序适用于小范围数的特点)"
   ]
  },
  {
   "cell_type": "markdown",
   "metadata": {},
   "source": [
    "## 演示\n",
    "LSD基数排序\n",
    "![radixsort](./image/radixsort.gif)"
   ]
  },
  {
   "cell_type": "markdown",
   "metadata": {},
   "source": [
    "## 代码"
   ]
  },
  {
   "cell_type": "code",
   "execution_count": 10,
   "metadata": {},
   "outputs": [],
   "source": [
    "def radixSort(arr, maxDigit):\n",
    "    counter = []\n",
    "    mode = 10\n",
    "    dev = 1\n",
    "    for i in range(maxDigit):\n",
    "        for j in len(arr):\n",
    "            bucket = int((arr[j] % mod) / dev)\n",
    "            if counter[bucket] is None:\n",
    "                counter[bucket] = []\n",
    "            counter[bucket].append(arr[j])\n",
    "        pos = 0\n",
    "        for j in range(len(counter)):\n",
    "            if counter[j] is not None:\n",
    "                value = counter[j].pop(0)\n",
    "                while value is not None:\n",
    "                    arr[pos] = value\n",
    "                    pos += 1\n",
    "                    value =  counter[j].pop(0)\n",
    "        mode *= 10\n",
    "        dev *= 10\n",
    "    return arr"
   ]
  }
 ],
 "metadata": {
  "kernelspec": {
   "display_name": "Python 3",
   "language": "python",
   "name": "python3"
  },
  "language_info": {
   "codemirror_mode": {
    "name": "ipython",
    "version": 3
   },
   "file_extension": ".py",
   "mimetype": "text/x-python",
   "name": "python",
   "nbconvert_exporter": "python",
   "pygments_lexer": "ipython3",
   "version": "3.7.0"
  },
  "toc": {
   "base_numbering": 1,
   "nav_menu": {},
   "number_sections": false,
   "sideBar": true,
   "skip_h1_title": false,
   "title_cell": "Table of Contents",
   "title_sidebar": "Contents",
   "toc_cell": false,
   "toc_position": {
    "height": "992.222px",
    "left": "46px",
    "top": "109.72px",
    "width": "305.087px"
   },
   "toc_section_display": true,
   "toc_window_display": true
  },
  "varInspector": {
   "cols": {
    "lenName": 16,
    "lenType": 16,
    "lenVar": 40
   },
   "kernels_config": {
    "python": {
     "delete_cmd_postfix": "",
     "delete_cmd_prefix": "del ",
     "library": "var_list.py",
     "varRefreshCmd": "print(var_dic_list())"
    },
    "r": {
     "delete_cmd_postfix": ") ",
     "delete_cmd_prefix": "rm(",
     "library": "var_list.r",
     "varRefreshCmd": "cat(var_dic_list()) "
    }
   },
   "types_to_exclude": [
    "module",
    "function",
    "builtin_function_or_method",
    "instance",
    "_Feature"
   ],
   "window_display": false
  }
 },
 "nbformat": 4,
 "nbformat_minor": 2
}
